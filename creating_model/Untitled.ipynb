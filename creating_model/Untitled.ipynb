{
 "cells": [
  {
   "cell_type": "code",
   "execution_count": 1,
   "id": "23a4ce28-f260-4885-abd0-b840014aee06",
   "metadata": {},
   "outputs": [
    {
     "name": "stdout",
     "output_type": "stream",
     "text": [
      "Index(['Unnamed: 0', 'Address', 'Zip', 'Price', 'Area', 'Room', 'Lon', 'Lat'], dtype='object')\n"
     ]
    },
    {
     "data": {
      "text/html": [
       "<div>\n",
       "<style scoped>\n",
       "    .dataframe tbody tr th:only-of-type {\n",
       "        vertical-align: middle;\n",
       "    }\n",
       "\n",
       "    .dataframe tbody tr th {\n",
       "        vertical-align: top;\n",
       "    }\n",
       "\n",
       "    .dataframe thead th {\n",
       "        text-align: right;\n",
       "    }\n",
       "</style>\n",
       "<table border=\"1\" class=\"dataframe\">\n",
       "  <thead>\n",
       "    <tr style=\"text-align: right;\">\n",
       "      <th></th>\n",
       "      <th>Unnamed: 0</th>\n",
       "      <th>Address</th>\n",
       "      <th>Zip</th>\n",
       "      <th>Price</th>\n",
       "      <th>Area</th>\n",
       "      <th>Room</th>\n",
       "      <th>Lon</th>\n",
       "      <th>Lat</th>\n",
       "    </tr>\n",
       "  </thead>\n",
       "  <tbody>\n",
       "    <tr>\n",
       "      <th>0</th>\n",
       "      <td>1</td>\n",
       "      <td>Blasiusstraat 8 2, Amsterdam</td>\n",
       "      <td>1091 CR</td>\n",
       "      <td>685000.0</td>\n",
       "      <td>64</td>\n",
       "      <td>3</td>\n",
       "      <td>4.907736</td>\n",
       "      <td>52.356157</td>\n",
       "    </tr>\n",
       "    <tr>\n",
       "      <th>1</th>\n",
       "      <td>2</td>\n",
       "      <td>Kromme Leimuidenstraat 13 H, Amsterdam</td>\n",
       "      <td>1059 EL</td>\n",
       "      <td>475000.0</td>\n",
       "      <td>60</td>\n",
       "      <td>3</td>\n",
       "      <td>4.850476</td>\n",
       "      <td>52.348586</td>\n",
       "    </tr>\n",
       "    <tr>\n",
       "      <th>2</th>\n",
       "      <td>3</td>\n",
       "      <td>Zaaiersweg 11 A, Amsterdam</td>\n",
       "      <td>1097 SM</td>\n",
       "      <td>850000.0</td>\n",
       "      <td>109</td>\n",
       "      <td>4</td>\n",
       "      <td>4.944774</td>\n",
       "      <td>52.343782</td>\n",
       "    </tr>\n",
       "    <tr>\n",
       "      <th>3</th>\n",
       "      <td>4</td>\n",
       "      <td>Tenerifestraat 40, Amsterdam</td>\n",
       "      <td>1060 TH</td>\n",
       "      <td>580000.0</td>\n",
       "      <td>128</td>\n",
       "      <td>6</td>\n",
       "      <td>4.789928</td>\n",
       "      <td>52.343712</td>\n",
       "    </tr>\n",
       "    <tr>\n",
       "      <th>4</th>\n",
       "      <td>5</td>\n",
       "      <td>Winterjanpad 21, Amsterdam</td>\n",
       "      <td>1036 KN</td>\n",
       "      <td>720000.0</td>\n",
       "      <td>138</td>\n",
       "      <td>5</td>\n",
       "      <td>4.902503</td>\n",
       "      <td>52.410538</td>\n",
       "    </tr>\n",
       "    <tr>\n",
       "      <th>5</th>\n",
       "      <td>6</td>\n",
       "      <td>De Wittenkade 134 I, Amsterdam</td>\n",
       "      <td>1051 AM</td>\n",
       "      <td>450000.0</td>\n",
       "      <td>53</td>\n",
       "      <td>2</td>\n",
       "      <td>4.875024</td>\n",
       "      <td>52.382228</td>\n",
       "    </tr>\n",
       "    <tr>\n",
       "      <th>6</th>\n",
       "      <td>7</td>\n",
       "      <td>Pruimenstraat 18 B, Amsterdam</td>\n",
       "      <td>1033 KM</td>\n",
       "      <td>450000.0</td>\n",
       "      <td>87</td>\n",
       "      <td>3</td>\n",
       "      <td>4.896536</td>\n",
       "      <td>52.410585</td>\n",
       "    </tr>\n",
       "    <tr>\n",
       "      <th>7</th>\n",
       "      <td>8</td>\n",
       "      <td>Da Costakade 32 II, Amsterdam</td>\n",
       "      <td>1053 WL</td>\n",
       "      <td>590000.0</td>\n",
       "      <td>80</td>\n",
       "      <td>2</td>\n",
       "      <td>4.871555</td>\n",
       "      <td>52.371041</td>\n",
       "    </tr>\n",
       "    <tr>\n",
       "      <th>8</th>\n",
       "      <td>9</td>\n",
       "      <td>Postjeskade 41 2, Amsterdam</td>\n",
       "      <td>1058 DG</td>\n",
       "      <td>399000.0</td>\n",
       "      <td>49</td>\n",
       "      <td>3</td>\n",
       "      <td>4.854671</td>\n",
       "      <td>52.363471</td>\n",
       "    </tr>\n",
       "    <tr>\n",
       "      <th>9</th>\n",
       "      <td>10</td>\n",
       "      <td>Van Ostadestraat 193 H, Amsterdam</td>\n",
       "      <td>1073 TM</td>\n",
       "      <td>300000.0</td>\n",
       "      <td>33</td>\n",
       "      <td>2</td>\n",
       "      <td>4.897142</td>\n",
       "      <td>52.353111</td>\n",
       "    </tr>\n",
       "  </tbody>\n",
       "</table>\n",
       "</div>"
      ],
      "text/plain": [
       "   Unnamed: 0                                 Address      Zip     Price  \\\n",
       "0           1            Blasiusstraat 8 2, Amsterdam  1091 CR  685000.0   \n",
       "1           2  Kromme Leimuidenstraat 13 H, Amsterdam  1059 EL  475000.0   \n",
       "2           3              Zaaiersweg 11 A, Amsterdam  1097 SM  850000.0   \n",
       "3           4            Tenerifestraat 40, Amsterdam  1060 TH  580000.0   \n",
       "4           5              Winterjanpad 21, Amsterdam  1036 KN  720000.0   \n",
       "5           6          De Wittenkade 134 I, Amsterdam  1051 AM  450000.0   \n",
       "6           7           Pruimenstraat 18 B, Amsterdam  1033 KM  450000.0   \n",
       "7           8           Da Costakade 32 II, Amsterdam  1053 WL  590000.0   \n",
       "8           9             Postjeskade 41 2, Amsterdam  1058 DG  399000.0   \n",
       "9          10       Van Ostadestraat 193 H, Amsterdam  1073 TM  300000.0   \n",
       "\n",
       "   Area  Room       Lon        Lat  \n",
       "0    64     3  4.907736  52.356157  \n",
       "1    60     3  4.850476  52.348586  \n",
       "2   109     4  4.944774  52.343782  \n",
       "3   128     6  4.789928  52.343712  \n",
       "4   138     5  4.902503  52.410538  \n",
       "5    53     2  4.875024  52.382228  \n",
       "6    87     3  4.896536  52.410585  \n",
       "7    80     2  4.871555  52.371041  \n",
       "8    49     3  4.854671  52.363471  \n",
       "9    33     2  4.897142  52.353111  "
      ]
     },
     "execution_count": 1,
     "metadata": {},
     "output_type": "execute_result"
    }
   ],
   "source": [
    "import pandas as pd\n",
    "import matplotlib.pyplot as plt\n",
    "import seaborn as sns\n",
    "import numpy as np\n",
    "\n",
    "df = pd.read_csv('HousingPrices-Amsterdam-August-2021.csv')\n",
    "print(df.columns)\n",
    "df.head(10)"
   ]
  },
  {
   "cell_type": "code",
   "execution_count": 2,
   "id": "6d4d6843-574e-483b-a017-2cf1c7d33611",
   "metadata": {},
   "outputs": [
    {
     "data": {
      "text/html": [
       "<div>\n",
       "<style scoped>\n",
       "    .dataframe tbody tr th:only-of-type {\n",
       "        vertical-align: middle;\n",
       "    }\n",
       "\n",
       "    .dataframe tbody tr th {\n",
       "        vertical-align: top;\n",
       "    }\n",
       "\n",
       "    .dataframe thead th {\n",
       "        text-align: right;\n",
       "    }\n",
       "</style>\n",
       "<table border=\"1\" class=\"dataframe\">\n",
       "  <thead>\n",
       "    <tr style=\"text-align: right;\">\n",
       "      <th></th>\n",
       "      <th>Unnamed: 0</th>\n",
       "      <th>Address</th>\n",
       "      <th>Zip</th>\n",
       "      <th>Price</th>\n",
       "      <th>Area</th>\n",
       "      <th>Room</th>\n",
       "      <th>Lon</th>\n",
       "      <th>Lat</th>\n",
       "      <th>outcode</th>\n",
       "    </tr>\n",
       "  </thead>\n",
       "  <tbody>\n",
       "    <tr>\n",
       "      <th>0</th>\n",
       "      <td>1</td>\n",
       "      <td>Blasiusstraat 8 2, Amsterdam</td>\n",
       "      <td>1091 CR</td>\n",
       "      <td>685000.0</td>\n",
       "      <td>64</td>\n",
       "      <td>3</td>\n",
       "      <td>4.907736</td>\n",
       "      <td>52.356157</td>\n",
       "      <td>1091</td>\n",
       "    </tr>\n",
       "    <tr>\n",
       "      <th>1</th>\n",
       "      <td>2</td>\n",
       "      <td>Kromme Leimuidenstraat 13 H, Amsterdam</td>\n",
       "      <td>1059 EL</td>\n",
       "      <td>475000.0</td>\n",
       "      <td>60</td>\n",
       "      <td>3</td>\n",
       "      <td>4.850476</td>\n",
       "      <td>52.348586</td>\n",
       "      <td>1059</td>\n",
       "    </tr>\n",
       "    <tr>\n",
       "      <th>2</th>\n",
       "      <td>3</td>\n",
       "      <td>Zaaiersweg 11 A, Amsterdam</td>\n",
       "      <td>1097 SM</td>\n",
       "      <td>850000.0</td>\n",
       "      <td>109</td>\n",
       "      <td>4</td>\n",
       "      <td>4.944774</td>\n",
       "      <td>52.343782</td>\n",
       "      <td>1097</td>\n",
       "    </tr>\n",
       "    <tr>\n",
       "      <th>3</th>\n",
       "      <td>4</td>\n",
       "      <td>Tenerifestraat 40, Amsterdam</td>\n",
       "      <td>1060 TH</td>\n",
       "      <td>580000.0</td>\n",
       "      <td>128</td>\n",
       "      <td>6</td>\n",
       "      <td>4.789928</td>\n",
       "      <td>52.343712</td>\n",
       "      <td>1060</td>\n",
       "    </tr>\n",
       "    <tr>\n",
       "      <th>4</th>\n",
       "      <td>5</td>\n",
       "      <td>Winterjanpad 21, Amsterdam</td>\n",
       "      <td>1036 KN</td>\n",
       "      <td>720000.0</td>\n",
       "      <td>138</td>\n",
       "      <td>5</td>\n",
       "      <td>4.902503</td>\n",
       "      <td>52.410538</td>\n",
       "      <td>1036</td>\n",
       "    </tr>\n",
       "  </tbody>\n",
       "</table>\n",
       "</div>"
      ],
      "text/plain": [
       "   Unnamed: 0                                 Address      Zip     Price  \\\n",
       "0           1            Blasiusstraat 8 2, Amsterdam  1091 CR  685000.0   \n",
       "1           2  Kromme Leimuidenstraat 13 H, Amsterdam  1059 EL  475000.0   \n",
       "2           3              Zaaiersweg 11 A, Amsterdam  1097 SM  850000.0   \n",
       "3           4            Tenerifestraat 40, Amsterdam  1060 TH  580000.0   \n",
       "4           5              Winterjanpad 21, Amsterdam  1036 KN  720000.0   \n",
       "\n",
       "   Area  Room       Lon        Lat outcode  \n",
       "0    64     3  4.907736  52.356157    1091  \n",
       "1    60     3  4.850476  52.348586    1059  \n",
       "2   109     4  4.944774  52.343782    1097  \n",
       "3   128     6  4.789928  52.343712    1060  \n",
       "4   138     5  4.902503  52.410538    1036  "
      ]
     },
     "execution_count": 2,
     "metadata": {},
     "output_type": "execute_result"
    }
   ],
   "source": [
    "def get_outcode(x:str):\n",
    "    return x.split(' ')[0]\n",
    "df['outcode'] = df.Zip.apply(get_outcode)\n",
    "df.head(5)"
   ]
  },
  {
   "cell_type": "code",
   "execution_count": 3,
   "id": "447b4f63-9660-4541-9323-b0548887bea9",
   "metadata": {},
   "outputs": [
    {
     "name": "stdout",
     "output_type": "stream",
     "text": [
      "(924, 9)\n",
      "<class 'pandas.core.frame.DataFrame'>\n",
      "RangeIndex: 924 entries, 0 to 923\n",
      "Data columns (total 9 columns):\n",
      " #   Column      Non-Null Count  Dtype  \n",
      "---  ------      --------------  -----  \n",
      " 0   Unnamed: 0  924 non-null    int64  \n",
      " 1   Address     924 non-null    object \n",
      " 2   Zip         924 non-null    object \n",
      " 3   Price       920 non-null    float64\n",
      " 4   Area        924 non-null    int64  \n",
      " 5   Room        924 non-null    int64  \n",
      " 6   Lon         924 non-null    float64\n",
      " 7   Lat         924 non-null    float64\n",
      " 8   outcode     924 non-null    object \n",
      "dtypes: float64(3), int64(3), object(3)\n",
      "memory usage: 65.1+ KB\n"
     ]
    }
   ],
   "source": [
    "print(df.shape)\n",
    "df.info()"
   ]
  },
  {
   "cell_type": "code",
   "execution_count": 4,
   "id": "776e8f8c-e533-46e4-8276-42bdc59707d6",
   "metadata": {},
   "outputs": [
    {
     "name": "stdout",
     "output_type": "stream",
     "text": [
      "Unnamed: 0    924\n",
      "Address       919\n",
      "Zip           834\n",
      "Price         226\n",
      "Area          193\n",
      "Room           13\n",
      "Lon           894\n",
      "Lat           886\n",
      "outcode        70\n",
      "dtype: int64\n"
     ]
    }
   ],
   "source": [
    "print(df.nunique())\n",
    "df = df.dropna()"
   ]
  },
  {
   "cell_type": "code",
   "execution_count": 5,
   "id": "530dfe45-5b78-486a-8a67-c94eb6293d18",
   "metadata": {},
   "outputs": [],
   "source": [
    "num = df[['Area', 'Room', 'Lon', 'Lat', 'Price']]\n",
    "cat = df[['Zip', 'Address', 'outcode']]"
   ]
  },
  {
   "cell_type": "code",
   "execution_count": 6,
   "id": "f12220a8-5b78-4af9-8c13-8b447ce2acd6",
   "metadata": {},
   "outputs": [
    {
     "data": {
      "image/png": "[encoded data removed]",
      "text/plain": [
       "<Figure size 640x480 with 2 Axes>"
      ]
     },
     "metadata": {},
     "output_type": "display_data"
    }
   ],
   "source": [
    "sns.heatmap(num.corr())\n",
    "plt.show()"
   ]
  },
  {
   "cell_type": "code",
   "execution_count": 7,
   "id": "2de3af2a-2be0-4af3-9f23-dc7a3dad1d09",
   "metadata": {},
   "outputs": [
    {
     "name": "stdout",
     "output_type": "stream",
     "text": [
      "             Area       Room         Lon         Lat         Price\n",
      "count  920.000000  920.00000  920.000000  920.000000  9.200000e+02\n",
      "mean    95.607609    3.56413    4.888652   52.363271  6.220654e+05\n",
      "std     56.849699    1.57103    0.053118    0.024054  5.389942e+05\n",
      "min     21.000000    1.00000    4.644819   52.291519  1.750000e+05\n",
      "25%     60.000000    3.00000    4.855834   52.351925  3.500000e+05\n",
      "50%     83.000000    3.00000    4.886818   52.364499  4.670000e+05\n",
      "75%    113.000000    4.00000    4.922337   52.377545  7.000000e+05\n",
      "max    623.000000   14.00000    5.029122   52.423805  5.950000e+06\n"
     ]
    }
   ],
   "source": [
    "print(num.describe())\n",
    "num = num.drop('Price', axis=1)"
   ]
  },
  {
   "cell_type": "code",
   "execution_count": 17,
   "id": "429b6c2f-95ad-4730-8e94-1fdcc016e91a",
   "metadata": {},
   "outputs": [
    {
     "data": {
      "text/plain": [
       "<Figure size 1600x400 with 0 Axes>"
      ]
     },
     "metadata": {},
     "output_type": "display_data"
    },
    {
     "data": {
      "image/png": "[encoded data removed]",
      "text/plain": [
       "<Figure size 400x400 with 1 Axes>"
      ]
     },
     "metadata": {},
     "output_type": "display_data"
    },
    {
     "data": {
      "image/png": "[encoded data removed]",
      "text/plain": [
       "<Figure size 400x400 with 1 Axes>"
      ]
     },
     "metadata": {},
     "output_type": "display_data"
    },
    {
     "data": {
      "image/png": "[encoded data removed]",
      "text/plain": [
       "<Figure size 400x400 with 1 Axes>"
      ]
     },
     "metadata": {},
     "output_type": "display_data"
    },
    {
     "data": {
      "image/png": "[encoded data removed]",
      "text/plain": [
       "<Figure size 400x400 with 1 Axes>"
      ]
     },
     "metadata": {},
     "output_type": "display_data"
    }
   ],
   "source": [
    "plt.figure(figsize=(16,4))\n",
    "for col in num.columns:\n",
    "    plt.figure(figsize=(4,4))\n",
    "    sns.scatterplot(x=num[col], y=df['Price'])\n",
    "    plt.xlabel(col)\n",
    "    plt.ylabel('Price')\n",
    "    plt.show()"
   ]
  },
  {
   "cell_type": "code",
   "execution_count": 18,
   "id": "b0c054f9-7ae8-4229-ac40-f7f9db3f65d7",
   "metadata": {},
   "outputs": [],
   "source": [
    "from sklearn.model_selection import train_test_split, cross_val_score\n",
    "from sklearn.ensemble import RandomForestRegressor, VotingRegressor\n",
    "from sklearn.linear_model import LinearRegression, Ridge\n",
    "from sklearn.metrics import r2_score, mean_squared_error, mean_absolute_error\n",
    "from sklearn.preprocessing import StandardScaler\n",
    "import pickle\n",
    "\n",
    "scaler = StandardScaler()\n",
    "\n",
    "df_num = num.copy()\n",
    "df_cat = cat.drop(['Zip', 'Address'], axis=1)\n",
    "\n",
    "y = df['Price']\n",
    "X_num = df_num\n",
    "X_cat = pd.get_dummies(df_cat, columns=['outcode'], drop_first=True)\n",
    "X_full = pd.concat([X_num, X_cat], axis=1)\n",
    "\n",
    "idx_train, idx_test, y_train, y_test = train_test_split(\n",
    "    X_full.index, y, test_size=0.2, random_state=42\n",
    ")\n",
    "num_order = [\"Area\", \"Room\", \"Lon\", \"Lat\"]\n",
    "\n",
    "scaler = StandardScaler().fit(X_num.loc[idx_train, num_order])\n",
    "\n",
    "X_train_num = pd.DataFrame(\n",
    "    scaler.transform(X_num.loc[idx_train, num_order]),\n",
    "    index=idx_train, columns=num_order\n",
    ")\n",
    "X_test_num = pd.DataFrame(\n",
    "    scaler.transform(X_num.loc[idx_test, num_order]),\n",
    "    index=idx_test, columns=num_order\n",
    ")\n",
    "\n",
    "\n",
    "X_train_cat = X_cat.loc[idx_train]\n",
    "X_test_cat  = X_cat.loc[idx_test]\n",
    "\n",
    "X_train = pd.concat([X_train_num, X_train_cat], axis=1)\n",
    "X_test  = pd.concat([X_test_num,  X_test_cat],  axis=1)\n",
    "\n"
   ]
  },
  {
   "cell_type": "code",
   "execution_count": 24,
   "id": "3a62e82d-e8c5-4cc5-82c7-ae61749129f7",
   "metadata": {},
   "outputs": [
    {
     "name": "stdout",
     "output_type": "stream",
     "text": [
      "R²: 0.8328917766164272\n",
      "Mean squared error: 50884931885.64614\n",
      "Mean absolute error: 138959.9656770565\n",
      "Mean ridge R²: 0.7220900478586133 ± 0.09754159531459551\n"
     ]
    }
   ],
   "source": [
    "#use ridge to avoid collapses\n",
    "ridge_model = Ridge(alpha=1.0, random_state=42)\n",
    "ridge_model.fit(X_train, y_train)\n",
    "y_pred_rid = ridge_model.predict(X_test)\n",
    "print(\"R²:\", ridge_model.score(X_test, y_test))\n",
    "print(\"Mean squared error:\", mean_squared_error(y_test, y_pred_rid))\n",
    "print(\"Mean absolute error:\", mean_absolute_error(y_test, y_pred_rid))\n",
    "scores = cross_val_score(ridge_model, X, y, cv=5, scoring=\"r2\")\n",
    "print(\"Mean ridge R²:\", np.mean(scores), \"±\", np.std(scores))\n"
   ]
  },
  {
   "cell_type": "code",
   "execution_count": 20,
   "id": "5315f6a1-3409-47a3-8ab7-8704e297e506",
   "metadata": {},
   "outputs": [
    {
     "name": "stdout",
     "output_type": "stream",
     "text": [
      "R²: 0.8796336883515649\n",
      "Mean squared error: 36651886098.37836\n",
      "Mean absolute error: 94442.45569586531\n",
      "Mean rf R²: 0.7907784723534125 ± 0.04887611691234201\n"
     ]
    }
   ],
   "source": [
    "rf_model = RandomForestRegressor(n_estimators=68, random_state=42)\n",
    "rf_model.fit(X_train, y_train)\n",
    "y_pred_rf = rf_model.predict(X_test)\n",
    "print(\"R²:\", r2_score(y_test, y_pred_rf))\n",
    "print(\"Mean squared error:\", mean_squared_error(y_test, y_pred_rf))\n",
    "print(\"Mean absolute error:\", mean_absolute_error(y_test, y_pred_rf))\n",
    "scores = cross_val_score(rf_model, X, y, cv=5, scoring=\"r2\")\n",
    "print(\"Mean rf R²:\", np.mean(scores), \"±\", np.std(scores))\n"
   ]
  },
  {
   "cell_type": "code",
   "execution_count": 21,
   "id": "46c2d57c-1054-414b-ad35-c8260ca12fb9",
   "metadata": {},
   "outputs": [
    {
     "name": "stdout",
     "output_type": "stream",
     "text": [
      "Test R²: 0.6971106392197632\n",
      "MSE: 92230676504.84239\n",
      "MAE: 151785.59239130435\n",
      "Mean rf R²: 0.676776937595778 ± 0.07888350009178306\n"
     ]
    },
    {
     "name": "stderr",
     "output_type": "stream",
     "text": [
      "C:\\Users\\Saturn\\AppData\\Local\\Programs\\Python\\Python311\\Lib\\site-packages\\sklearn\\model_selection\\_split.py:776: UserWarning: The least populated class in y has only 1 members, which is less than n_splits=5.\n",
      "  warnings.warn(\n"
     ]
    }
   ],
   "source": [
    "from sklearn.neighbors import KNeighborsClassifier\n",
    "knn = KNeighborsClassifier(n_neighbors = 2)\n",
    "knn.fit(X_train, y_train)\n",
    "y_pred = knn.predict(X_test)\n",
    " \n",
    "print(\"Test R²:\", r2_score(y_test, y_pred))\n",
    "print(\"MSE:\", mean_squared_error(y_test, y_pred))\n",
    "print(\"MAE:\", mean_absolute_error(y_test, y_pred))\n",
    "scores = cross_val_score(knn, X, y, cv=5, scoring=\"r2\")\n",
    "print(\"Mean rf R²:\", np.mean(scores), \"±\", np.std(scores))"
   ]
  },
  {
   "cell_type": "code",
   "execution_count": 22,
   "id": "07a94d4b-6340-4957-b211-787da349d1f9",
   "metadata": {},
   "outputs": [
    {
     "name": "stdout",
     "output_type": "stream",
     "text": [
      "Test R²: 0.6971106392197632\n",
      "MSE: 92230676504.84239\n",
      "MAE: 151785.59239130435\n",
      "Mean rf R²: 0.5772690163152221 ± 0.09030790008457504\n"
     ]
    }
   ],
   "source": [
    "from sklearn.tree import DecisionTreeRegressor\n",
    "\n",
    "dt_model = DecisionTreeRegressor(max_depth=9, random_state=42)\n",
    "dt_model.fit(X_train, y_train)\n",
    "y_pred = knn.predict(X_test)\n",
    " \n",
    "print(\"Test R²:\", r2_score(y_test, y_pred))\n",
    "print(\"MSE:\", mean_squared_error(y_test, y_pred))\n",
    "print(\"MAE:\", mean_absolute_error(y_test, y_pred))\n",
    "scores = cross_val_score(dt_model, X, y, cv=5, scoring=\"r2\")\n",
    "print(\"Mean rf R²:\", np.mean(scores), \"±\", np.std(scores))"
   ]
  },
  {
   "cell_type": "code",
   "execution_count": null,
   "id": "bb44e1f6-00b2-4fbb-a220-f140fd71ef52",
   "metadata": {},
   "outputs": [],
   "source": []
  },
  {
   "cell_type": "code",
   "execution_count": null,
   "id": "9993eee1-0d79-42b5-89aa-10496d582c43",
   "metadata": {},
   "outputs": [],
   "source": []
  },
  {
   "cell_type": "code",
   "execution_count": 26,
   "id": "6840bd86-24f1-4e6e-8dd4-4450229d9871",
   "metadata": {},
   "outputs": [
    {
     "name": "stdout",
     "output_type": "stream",
     "text": [
      "R²: 0.885906704108493\n",
      "CV R²: 0.7900560511741377 ± 0.044928859419854035\n"
     ]
    }
   ],
   "source": [
    "vote_reg = VotingRegressor(estimators=[(\"ridge\", ridge_model), (\"rf\", rf_model)])\n",
    "vote_reg.fit(X_train, y_train)\n",
    "y_pred = vote_reg.predict(X_test)\n",
    "print(\"R²:\", r2_score(y_test, y_pred))\n",
    "cv_scores = cross_val_score(vote_reg, X, y, cv=5, scoring=\"r2\")\n",
    "print(\"CV R²:\", cv_scores.mean(), \"±\", cv_scores.std())\n",
    "with open(\"voting_model.pkl\", \"wb\") as f:\n",
    "    pickle.dump(vote_reg, f)"
   ]
  },
  {
   "cell_type": "code",
   "execution_count": 29,
   "id": "a7ca3e14-21af-4812-89b2-59212e259352",
   "metadata": {},
   "outputs": [],
   "source": [
    "with open(\"rf_model.pkl\", \"wb\") as f: pickle.dump(rf_model, f)\n",
    "with open(\"scaler.pkl\", \"wb\") as f: pickle.dump(scaler, f)\n",
    "with open(\"train_columns.pkl\", \"wb\") as f: pickle.dump(X_train.columns.tolist(), f)\n",
    "with open(\"num_order.pkl\", \"wb\") as f: pickle.dump(num_order, f)\n",
    "\n",
    "\n"
   ]
  },
  {
   "cell_type": "code",
   "execution_count": null,
   "id": "debb11e3-71f8-40d0-805d-66c2c09a6afe",
   "metadata": {},
   "outputs": [],
   "source": []
  },
  {
   "cell_type": "code",
   "execution_count": null,
   "id": "893e2140-89c5-4df6-b025-c90cfa1e5061",
   "metadata": {},
   "outputs": [],
   "source": []
  },
  {
   "cell_type": "code",
   "execution_count": null,
   "id": "965aeff5-43e0-4e27-b94b-e6cec8ff1baf",
   "metadata": {},
   "outputs": [],
   "source": []
  }
 ],
 "metadata": {
  "kernelspec": {
   "display_name": "Python 3 (ipykernel)",
   "language": "python",
   "name": "python3"
  },
  "language_info": {
   "codemirror_mode": {
    "name": "ipython",
    "version": 3
   },
   "file_extension": ".py",
   "mimetype": "text/x-python",
   "name": "python",
   "nbconvert_exporter": "python",
   "pygments_lexer": "ipython3",
   "version": "3.11.0"
  }
 },
 "nbformat": 4,
 "nbformat_minor": 5
}
